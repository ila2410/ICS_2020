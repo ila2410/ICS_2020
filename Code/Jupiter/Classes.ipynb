{
 "cells": [
  {
   "cell_type": "markdown",
   "metadata": {},
   "source": [
    "# Classes"
   ]
  },
  {
   "cell_type": "markdown",
   "metadata": {},
   "source": [
    "As we discussed on the first lecture, Python is an object-oriented programming language. This means, that with Python you will be able to make objects using class. Object is a collection of variables, functions and data. A class is a template for creating objects. "
   ]
  },
  {
   "cell_type": "markdown",
   "metadata": {},
   "source": [
    "We can think of objects and classes in our everyday life. Word car is a class, because it refers to a certain set of functions. For example, car can shift gears, go forward and backwards, turn, take load, etc. This set of functions applied to any type of cars: firefighters trucks, ambulance, buses, passenger cars... These cars types in the example are objects created from class."
   ]
  },
  {
   "cell_type": "markdown",
   "metadata": {},
   "source": [
    "## Class initiating"
   ]
  },
  {
   "cell_type": "markdown",
   "metadata": {},
   "source": [
    "You can initiate class by using ***class*** keyword (Note that classes names starting from uppercase letter): "
   ]
  },
  {
   "cell_type": "code",
   "execution_count": 3,
   "metadata": {},
   "outputs": [],
   "source": [
    "class Car():\n",
    "    # This is an atribute of a class - a container for the data related to an objects\n",
    "    number_of_passengers = 5"
   ]
  },
  {
   "cell_type": "markdown",
   "metadata": {},
   "source": [
    "Now you initiated a class, but you cannot use it in code now. In order to use it you need to initiate an object:"
   ]
  },
  {
   "cell_type": "code",
   "execution_count": 4,
   "metadata": {},
   "outputs": [],
   "source": [
    "mini_bus = Car()"
   ]
  },
  {
   "cell_type": "markdown",
   "metadata": {},
   "source": [
    "Now, when you initiated the object, you can call its attribute like this:"
   ]
  },
  {
   "cell_type": "code",
   "execution_count": 6,
   "metadata": {},
   "outputs": [
    {
     "name": "stdout",
     "output_type": "stream",
     "text": [
      "Number of passengers in mini bus is 5\n"
     ]
    }
   ],
   "source": [
    "n_passengers = mini_bus.number_of_passengers \n",
    "print('Number of passengers in mini bus is',n_passengers)"
   ]
  },
  {
   "cell_type": "markdown",
   "metadata": {},
   "source": [
    "## __init__() method"
   ]
  },
  {
   "cell_type": "markdown",
   "metadata": {},
   "source": [
    "Above shown class is not very helpful in real applications, because every new object will have same parameters as previous ones. Therefore, we need to learn __init__() method, which allows to assign values or make operations to the object. This function is called first whenever new object is initiated:"
   ]
  },
  {
   "cell_type": "markdown",
   "metadata": {},
   "source": [
    "## The self parameter"
   ]
  },
  {
   "cell_type": "markdown",
   "metadata": {},
   "source": [
    "***Self*** parameter is reference to a current object. When new object is initiated, instead of self will be automatically placed name of the object."
   ]
  },
  {
   "cell_type": "markdown",
   "metadata": {},
   "source": [
    "## Object methods (functions)"
   ]
  },
  {
   "cell_type": "markdown",
   "metadata": {},
   "source": [
    "Objects also can contain methods(functions). You can initiate a method as you did it with functions. Note, that you need to pass ***self*** parameter. For example: ***def method_name(self):***"
   ]
  },
  {
   "cell_type": "code",
   "execution_count": 22,
   "metadata": {},
   "outputs": [
    {
     "name": "stdout",
     "output_type": "stream",
     "text": [
      "15\n",
      "31\n",
      "Hi Dave! Would you like to subscribe to Daily Engineering journal?\n",
      "Hi Lisa! Would you like to subscribe to Dental trends journal?\n",
      "Mike, go home and do your homework!\n"
     ]
    }
   ],
   "source": [
    "class Person():\n",
    "    # Self we will discuss later\n",
    "    # Arguments (variables in brackets) are filled when object is initiated\n",
    "    def __init__(self, p_name, p_age, p_occupation):\n",
    "        \n",
    "        # We initiate new variable in the class and assign variables from brackets\n",
    "        self.name = p_name\n",
    "        self.age = p_age\n",
    "        self.occupation = p_occupation\n",
    "    \n",
    "    def find_journal(self):\n",
    "        \n",
    "        if self.age > 18:\n",
    "            if self.occupation == 'Engineer':\n",
    "                journal = 'Daily Engineering'\n",
    "            elif self.occupation == 'Dentist':\n",
    "                journal = 'Dental trends'\n",
    "            print('Hi {}! Would you like to subscribe to {} journal?'.format(self.name, journal))\n",
    "        else:\n",
    "            print('{}, go home and do your homework!'.format(self.name))\n",
    "        \n",
    "\n",
    "# Now you can initiate an object\n",
    "dave = Person('Dave', 27, 'Engineer')\n",
    "lisa = Person('Lisa', 31, 'Dentist')\n",
    "mike = Person('Mike', 15, 'Streamer')\n",
    "\n",
    "# Now you can call a variable from class\n",
    "\n",
    "print(mike.age)\n",
    "print(lisa.age)\n",
    "\n",
    "# Or call a method from class\n",
    "dave.find_journal()\n",
    "lisa.find_journal()\n",
    "mike.find_journal()\n",
    "        "
   ]
  }
 ],
 "metadata": {
  "kernelspec": {
   "display_name": "Python 3",
   "language": "python",
   "name": "python3"
  },
  "language_info": {
   "codemirror_mode": {
    "name": "ipython",
    "version": 3
   },
   "file_extension": ".py",
   "mimetype": "text/x-python",
   "name": "python",
   "nbconvert_exporter": "python",
   "pygments_lexer": "ipython3",
   "version": "3.7.3"
  }
 },
 "nbformat": 4,
 "nbformat_minor": 2
}

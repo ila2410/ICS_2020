{
 "cells": [
  {
   "cell_type": "markdown",
   "metadata": {},
   "source": [
    "## IF ELSE statement"
   ]
  },
  {
   "cell_type": "code",
   "execution_count": 2,
   "metadata": {},
   "outputs": [
    {
     "name": "stdout",
     "output_type": "stream",
     "text": [
      "Enter number your number: 0\n",
      "Number is negative!\n"
     ]
    }
   ],
   "source": [
    "\n",
    "#Get input from user using input() function and convert it to integer\n",
    "number = int(input('Enter number your number: '))\n",
    "\n",
    "#Check if number is more thank 0\n",
    "if number > 0:\n",
    "    print('Number is positive!')\n",
    "#For all other cases print following statement\n",
    "#Does this program express relations correctly?\n",
    "else:\n",
    "    print('Number is negative!')\n"
   ]
  },
  {
   "cell_type": "markdown",
   "metadata": {},
   "source": [
    "## ELIF "
   ]
  },
  {
   "cell_type": "code",
   "execution_count": null,
   "metadata": {},
   "outputs": [],
   "source": [
    "#Get input from user using input() function and convert it to integer\n",
    "number = int(input('Enter number your number: '))\n",
    "\n",
    "\n",
    "if number > 0:\n",
    "    print('Number is positive!')\n",
    "elif number == 0:\n",
    "    print('Number is equal to 0!')\n",
    "else:\n",
    "    print('Number is negative!')\n",
    "\n"
   ]
  },
  {
   "cell_type": "code",
   "execution_count": null,
   "metadata": {},
   "outputs": [],
   "source": []
  }
 ],
 "metadata": {
  "kernelspec": {
   "display_name": "Python 3",
   "language": "python",
   "name": "python3"
  },
  "language_info": {
   "codemirror_mode": {
    "name": "ipython",
    "version": 3
   },
   "file_extension": ".py",
   "mimetype": "text/x-python",
   "name": "python",
   "nbconvert_exporter": "python",
   "pygments_lexer": "ipython3",
   "version": "3.7.3"
  }
 },
 "nbformat": 4,
 "nbformat_minor": 2
}

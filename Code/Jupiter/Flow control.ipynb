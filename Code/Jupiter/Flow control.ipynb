{
 "cells": [
  {
   "cell_type": "markdown",
   "metadata": {},
   "source": [
    "## IF ELSE statement"
   ]
  },
  {
   "cell_type": "code",
   "execution_count": 1,
   "metadata": {},
   "outputs": [
    {
     "name": "stdout",
     "output_type": "stream",
     "text": [
      "Enter your number: 5\n",
      "Number is positive!\n"
     ]
    }
   ],
   "source": [
    "\n",
    "#Get input from user using input() function and convert it to integer\n",
    "number = int(input('Enter your number: '))\n",
    "\n",
    "#Check if number is more thank 0\n",
    "if number > 0:\n",
    "    print('Number is positive!')\n",
    "#For all other cases print following statement\n",
    "#Does this program express relations correctly?\n",
    "else:\n",
    "    print('Number is negative!')\n",
    "\n",
    "#tip: write pseudo-code as comments before writing actual code"
   ]
  },
  {
   "cell_type": "markdown",
   "metadata": {},
   "source": [
    "## ELIF "
   ]
  },
  {
   "cell_type": "code",
   "execution_count": 2,
   "metadata": {},
   "outputs": [
    {
     "name": "stdout",
     "output_type": "stream",
     "text": [
      "Enter your number: 4\n",
      "Number is positive!\n",
      "number more than 3\n",
      "example\n"
     ]
    }
   ],
   "source": [
    "#Get input from user using input() function and convert it to integer\n",
    "number = float(input('Enter your number: '))\n",
    "\n",
    "\n",
    "if number > 0:\n",
    "    print('Number is positive!')\n",
    "elif number == 0:\n",
    "    print('Number is equal to 0!')\n",
    "else:\n",
    "    print('Number is negative!')\n",
    "\n",
    "#tab is important (called \"indentation\" in python) as it identifies what is within the if-command\n",
    "if number > 3:\n",
    "    print('number more than 3')\n",
    "    \n",
    "print('example')"
   ]
  }
 ],
 "metadata": {
  "kernelspec": {
   "display_name": "Python 3",
   "language": "python",
   "name": "python3"
  },
  "language_info": {
   "codemirror_mode": {
    "name": "ipython",
    "version": 3
   },
   "file_extension": ".py",
   "mimetype": "text/x-python",
   "name": "python",
   "nbconvert_exporter": "python",
   "pygments_lexer": "ipython3",
   "version": "3.7.4"
  }
 },
 "nbformat": 4,
 "nbformat_minor": 2
}

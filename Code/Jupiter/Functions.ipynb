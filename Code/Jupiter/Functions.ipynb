{
 "cells": [
  {
   "cell_type": "markdown",
   "metadata": {},
   "source": [
    "# Functions"
   ]
  },
  {
   "cell_type": "markdown",
   "metadata": {},
   "source": [
    "A function is a part of the code, which runs when it is called. Originally, concept of functions came from math. It is made for easier calculation of complex problems by dividing them into small blocks. For example, basic math function has following form: "
   ]
  },
  {
   "cell_type": "markdown",
   "metadata": {},
   "source": [
    "$$f(x) = x^2$$"
   ]
  },
  {
   "cell_type": "markdown",
   "metadata": {},
   "source": [
    "Functions may have input and output. In the case of example math function, input is a value of x and x^2 is an output."
   ]
  },
  {
   "cell_type": "markdown",
   "metadata": {},
   "source": [
    "In Python, functions have the same idea. Function has a name, may have input and output. Before calling a function, you should initiate it by following code:"
   ]
  },
  {
   "cell_type": "code",
   "execution_count": 2,
   "metadata": {},
   "outputs": [],
   "source": [
    "def function_name():\n",
    "    print('This is a function')"
   ]
  },
  {
   "cell_type": "markdown",
   "metadata": {},
   "source": [
    "where, def is keyword for initialization of the function, function_name is a name of the function which you can choose and parenthesis are a place for argument.\n",
    "If we want to create  math function from example, we need to pass x value to parenthesis. It will take this form:\n"
   ]
  },
  {
   "cell_type": "code",
   "execution_count": 4,
   "metadata": {},
   "outputs": [],
   "source": [
    "def f(x):\n",
    "    x**2"
   ]
  },
  {
   "cell_type": "markdown",
   "metadata": {},
   "source": [
    "Now this function doesn’t output anything, because we need to provide variable to output. It can be done by return keyword:"
   ]
  },
  {
   "cell_type": "code",
   "execution_count": 11,
   "metadata": {},
   "outputs": [],
   "source": [
    "def f(x):\n",
    "    return x**2"
   ]
  },
  {
   "cell_type": "markdown",
   "metadata": {},
   "source": [
    "Here we told computer to output a result of the mathematical operation and fully modelled behavior of math function. If we will run the code it won’t output anything, because we initiated a function but didn’t call it, meaning, we need to ask computer to execute this function:"
   ]
  },
  {
   "cell_type": "code",
   "execution_count": 13,
   "metadata": {},
   "outputs": [
    {
     "data": {
      "text/plain": [
       "25"
      ]
     },
     "execution_count": 13,
     "metadata": {},
     "output_type": "execute_result"
    }
   ],
   "source": [
    "x = 5\n",
    "f(x)"
   ]
  },
  {
   "cell_type": "markdown",
   "metadata": {},
   "source": [
    "General form of the code is:"
   ]
  },
  {
   "cell_type": "code",
   "execution_count": 14,
   "metadata": {},
   "outputs": [
    {
     "data": {
      "text/plain": [
       "25"
      ]
     },
     "execution_count": 14,
     "metadata": {},
     "output_type": "execute_result"
    }
   ],
   "source": [
    "def f(x):\n",
    "    return x**2\n",
    "\n",
    "x = 5\n",
    "f(x)"
   ]
  },
  {
   "cell_type": "markdown",
   "metadata": {},
   "source": [
    "How we can use it in practice? We can divide harder tasks to a small ones. Or, we can use functions to reduce amount of the repeated code blocks. For example, we can calculate volume of the engine of any car by using functions."
   ]
  },
  {
   "cell_type": "code",
   "execution_count": 24,
   "metadata": {},
   "outputs": [
    {
     "data": {
      "text/plain": [
       "'Honda Civic Si has 4 piston engine of 1995.9053349451146 cc volume.'"
      ]
     },
     "execution_count": 24,
     "metadata": {},
     "output_type": "execute_result"
    }
   ],
   "source": [
    "import math\n",
    "\n",
    "# Create separate function for piston area\n",
    "def piston_area(piston_diameter):\n",
    "    # A = pi*r^2 \n",
    "    area = math.pi * (piston_diameter**2)/4\n",
    "    return area\n",
    "\n",
    "# Create another function for calculation of one cylinder's volume\n",
    "def cylinder_volume(area, cylinder_stroke):\n",
    "    \n",
    "    # V = Area*Stroke\n",
    "    cylinder_volume = area*cylinder_stroke\n",
    "    \n",
    "    return cylinder_volume\n",
    "\n",
    "# Create function for defining engine voume\n",
    "def engine_volume(number_of_cylinders, cylinder_volume):\n",
    "    \n",
    "    # Number_of_cylinders * cylinder_volume\n",
    "    engine_volume = number_of_cylinders * cylinder_volume\n",
    "    \n",
    "    return engine_volume\n",
    "\n",
    "def cubic_mm_to_liters(volume):\n",
    "    return volume * (10**6)\n",
    "\n",
    "def cubic_mm_to_cc(volume):\n",
    "    return volume * 0.001\n",
    "\n",
    "# Create another function to print() results\n",
    "def show_spec_of_engine(car_name, number_of_cylinders, engine_volume):\n",
    "    return '{} has {} piston engine of {} cc volume.'.format(car_name, number_of_cylinders, engine_volume)\n",
    "\n",
    "# Now it is time to call functions to calculate everything\n",
    "# Let's take Honda Civic. It has 4 cylinder engine with bore(cylinder diameter) 86 mm and stroke of 89.5\n",
    "# https://www.honda.ca/civic_sedan/specs\n",
    "\n",
    "stroke = 85.9\n",
    "bore = 86\n",
    "area = piston_area(bore)\n",
    "cyl_volume = cylinder_volume(area, stroke)\n",
    "eng_volume_cmm = engine_volume(4, cyl_volume)\n",
    "eng_volume_cc = cubic_mm_to_cc(eng_volume_cmm)\n",
    "show_spec_of_engine('Honda Civic Si', 4, eng_volume_cc)\n",
    "\n"
   ]
  },
  {
   "cell_type": "markdown",
   "metadata": {},
   "source": [
    "Or it can be done another way. We can put all of the function calls in another function:"
   ]
  },
  {
   "cell_type": "code",
   "execution_count": 25,
   "metadata": {},
   "outputs": [
    {
     "data": {
      "text/plain": [
       "'VW Golf has 6 piston engine of 2791.893964257447 cc volume.'"
      ]
     },
     "execution_count": 25,
     "metadata": {},
     "output_type": "execute_result"
    }
   ],
   "source": [
    "import math\n",
    "\n",
    "# Create separate function for piston area\n",
    "def piston_area(piston_diameter):\n",
    "    # A = pi*r^2 \n",
    "    area = math.pi * (piston_diameter**2)/4\n",
    "    return area\n",
    "\n",
    "# Create another function for calculation of one cylinder's volume\n",
    "def cylinder_volume(area, cylinder_stroke):\n",
    "    \n",
    "    # V = Area*Stroke\n",
    "    cylinder_volume = area*cylinder_stroke\n",
    "    \n",
    "    return cylinder_volume\n",
    "\n",
    "# Create function for defining engine voume\n",
    "def engine_volume(number_of_cylinders, cylinder_volume):\n",
    "    \n",
    "    # Number_of_cylinders * cylinder_volume\n",
    "    engine_volume = number_of_cylinders * cylinder_volume\n",
    "    \n",
    "    return engine_volume\n",
    "\n",
    "def cubic_mm_to_liters(volume):\n",
    "    return volume * (10**(-6))\n",
    "\n",
    "def cubic_mm_to_cc(volume):\n",
    "    return volume * 0.001\n",
    "\n",
    "# Create another function to print() results\n",
    "def show_spec_of_engine(car_name, number_of_cylinders, engine_volume):\n",
    "    return 'Engine of {} is {} piston engine of {} cc.'.format(car_name, number_of_cylinders, engine_volume)\n",
    "\n",
    "\n",
    "def specs(make, cylinder_bore, cylinder_stroke,number_of_cylinders):\n",
    "    area = piston_area(cylinder_bore)\n",
    "    cyl_volume = cylinder_volume(area, cylinder_stroke)\n",
    "    eng_volume_cmm = engine_volume(number_of_cylinders, cyl_volume)\n",
    "    eng_volume_cc = cubic_mm_to_cc(eng_volume_cmm)\n",
    "    return '{} has {} piston engine of {} cc volume.'.format(make, number_of_cylinders, eng_volume_cc)\n",
    "\n",
    "# Golf 2.8l specs\n",
    "# https://books.google.fi/books?id=j5iTLWUUXIYC&pg=PA22&lpg=PA22&dq=vw+golf++Bore+and+stroke&source=bl&ots=qJLB7D0UY1&sig=ACfU3U3RmEG-c4qPv9B1j-iIGgIwep0S6g&hl=ru&sa=X&ved=2ahUKEwi28IfHmqLnAhVqs4sKHaHADwIQ6AEwFnoECAoQAQ#v=onepage&q=vw%20golf%20%20Bore%20and%20stroke&f=false\n",
    "specs('Honda Civic Si', 86, 85.9, 4)\n",
    "specs('VW Golf', 81, 90.3, 6)"
   ]
  }
 ],
 "metadata": {
  "kernelspec": {
   "display_name": "Python 3",
   "language": "python",
   "name": "python3"
  },
  "language_info": {
   "codemirror_mode": {
    "name": "ipython",
    "version": 3
   },
   "file_extension": ".py",
   "mimetype": "text/x-python",
   "name": "python",
   "nbconvert_exporter": "python",
   "pygments_lexer": "ipython3",
   "version": "3.7.6"
  }
 },
 "nbformat": 4,
 "nbformat_minor": 2
}

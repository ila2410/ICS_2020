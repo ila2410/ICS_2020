{
 "cells": [
  {
   "cell_type": "markdown",
   "metadata": {},
   "source": [
    "# Lists and Dictionaries"
   ]
  },
  {
   "cell_type": "markdown",
   "metadata": {},
   "source": [
    "In Python you can collect multiple variables together. It is done by lists and dictionaries."
   ]
  },
  {
   "cell_type": "markdown",
   "metadata": {},
   "source": [
    "## List"
   ]
  },
  {
   "cell_type": "markdown",
   "metadata": {},
   "source": [
    "List is a collection of variables which are ordered and changeable. You can store, access and change any type of variables in the list. Variable in the list called element. Basic list looks like this:"
   ]
  },
  {
   "cell_type": "code",
   "execution_count": 1,
   "metadata": {},
   "outputs": [
    {
     "name": "stdout",
     "output_type": "stream",
     "text": [
      "['Apple', 1984, 'Macintosh']\n"
     ]
    }
   ],
   "source": [
    "#You can initiate a list as follows\n",
    "list_with_numbers = [0,1,2,3,4,5,6]\n",
    "\n",
    "#An empty list\n",
    "empty_list = []\n",
    "\n",
    "#You can store numbers as well\n",
    "names_list = ['Andrew', 'Mark', 'Stan']\n",
    "\n",
    "#You can store variables with different types\n",
    "mixed_list = ['Apple', 1984, 'Macintosh']\n",
    "\n",
    "#List can contain other lists in it\n",
    "list_of_lists = [['Apple', 1984, 'Macintosh'], ['IBM', 1975, '5100']]\n",
    "\n",
    "\n",
    "print(mixed_list)"
   ]
  },
  {
   "cell_type": "markdown",
   "metadata": {},
   "source": [
    "### Accessing elements"
   ]
  },
  {
   "cell_type": "markdown",
   "metadata": {},
   "source": [
    "There are two methods to access list’s elements. The first type is accessing element by index. At the figure below you can see how elements are indexed in the list. Note that list always starts from 0. "
   ]
  },
  {
   "cell_type": "code",
   "execution_count": 198,
   "metadata": {},
   "outputs": [
    {
     "name": "stdout",
     "output_type": "stream",
     "text": [
      "Mark\n"
     ]
    }
   ],
   "source": [
    "print(names_list[1])"
   ]
  },
  {
   "cell_type": "markdown",
   "metadata": {},
   "source": [
    "You can use negative indices to access elements from the end of the list:"
   ]
  },
  {
   "cell_type": "code",
   "execution_count": 199,
   "metadata": {},
   "outputs": [
    {
     "name": "stdout",
     "output_type": "stream",
     "text": [
      "Stan\n"
     ]
    }
   ],
   "source": [
    "print(names_list[-1])\n",
    "#print(names_list[-2])"
   ]
  },
  {
   "cell_type": "markdown",
   "metadata": {},
   "source": [
    "Another method of accessing elements in the list is slicing. With this method you can access multiple elements. You can make slicing as shown below. First digit inside of brackets defines where the starting elements and second is the stop element. Note, that last element is not included, therefore, in this example command outputs two values instead of three:"
   ]
  },
  {
   "cell_type": "code",
   "execution_count": 200,
   "metadata": {},
   "outputs": [
    {
     "name": "stdout",
     "output_type": "stream",
     "text": [
      "['Andrew', 'Mark']\n"
     ]
    }
   ],
   "source": [
    "print(names_list[0:2])"
   ]
  },
  {
   "cell_type": "markdown",
   "metadata": {},
   "source": [
    "### Changing and adding elements"
   ]
  },
  {
   "cell_type": "markdown",
   "metadata": {},
   "source": [
    "Any element can be changed by accessing it by the index and assigning a new value. For example:"
   ]
  },
  {
   "cell_type": "code",
   "execution_count": 201,
   "metadata": {},
   "outputs": [
    {
     "name": "stdout",
     "output_type": "stream",
     "text": [
      "Zoey\n",
      "['Andrew', 'Zoey', 'Stan']\n"
     ]
    }
   ],
   "source": [
    "names_list[1] = 'Zoey'\n",
    "print(names_list[1])\n",
    "print(names_list)"
   ]
  },
  {
   "cell_type": "markdown",
   "metadata": {},
   "source": [
    "You can add elements by append() method. This method adds only one element at the end of the list."
   ]
  },
  {
   "cell_type": "code",
   "execution_count": 202,
   "metadata": {},
   "outputs": [
    {
     "name": "stdout",
     "output_type": "stream",
     "text": [
      "['Andrew', 'Zoey', 'Stan', 'Charlie']\n"
     ]
    }
   ],
   "source": [
    "names_list.append('Charlie')\n",
    "\n",
    "print(names_list)"
   ]
  },
  {
   "cell_type": "markdown",
   "metadata": {},
   "source": [
    "To add multiple elements at the end of the list you need to use extend function:"
   ]
  },
  {
   "cell_type": "code",
   "execution_count": 203,
   "metadata": {},
   "outputs": [
    {
     "name": "stdout",
     "output_type": "stream",
     "text": [
      "['Andrew', 'Zoey', 'Stan', 'Charlie', 'Anna', 'Maria']\n"
     ]
    }
   ],
   "source": [
    "names_list.extend(['Anna', 'Maria'])\n",
    "\n",
    "print(names_list)"
   ]
  },
  {
   "cell_type": "markdown",
   "metadata": {},
   "source": [
    "### Deleting "
   ]
  },
  {
   "cell_type": "markdown",
   "metadata": {},
   "source": [
    "You can delete elements by using the del keyword. For example, if we want to delete ‘Stan’ for the list, we need to write following command:"
   ]
  },
  {
   "cell_type": "code",
   "execution_count": 204,
   "metadata": {},
   "outputs": [
    {
     "name": "stdout",
     "output_type": "stream",
     "text": [
      "['Andrew', 'Zoey', 'Charlie', 'Anna', 'Maria']\n"
     ]
    }
   ],
   "source": [
    "del names_list[2]\n",
    "\n",
    "print(names_list)"
   ]
  },
  {
   "cell_type": "markdown",
   "metadata": {},
   "source": [
    "We can delete multiple elements. For example, we can delete ‘Andrew’ and ‘Zoey’:"
   ]
  },
  {
   "cell_type": "code",
   "execution_count": 205,
   "metadata": {},
   "outputs": [
    {
     "name": "stdout",
     "output_type": "stream",
     "text": [
      "['Charlie', 'Anna', 'Maria']\n"
     ]
    }
   ],
   "source": [
    "del names_list[0:2]\n",
    "\n",
    "print(names_list)"
   ]
  },
  {
   "cell_type": "markdown",
   "metadata": {},
   "source": [
    "We also can use remove() function, which deletes elements by their values."
   ]
  },
  {
   "cell_type": "code",
   "execution_count": 206,
   "metadata": {},
   "outputs": [
    {
     "name": "stdout",
     "output_type": "stream",
     "text": [
      "['Charlie', 'Maria']\n"
     ]
    }
   ],
   "source": [
    "names_list.remove('Anna')\n",
    "\n",
    "print(names_list)"
   ]
  },
  {
   "cell_type": "markdown",
   "metadata": {},
   "source": [
    "Another way to remove element is pop() function, which removes and returns value of an element by index. If index is not provided, it returns last element of the list."
   ]
  },
  {
   "cell_type": "code",
   "execution_count": 2,
   "metadata": {},
   "outputs": [
    {
     "name": "stdout",
     "output_type": "stream",
     "text": [
      "['Andrew', 'Mark', 'Stan']\n",
      "Stan\n",
      "['Andrew', 'Mark']\n"
     ]
    }
   ],
   "source": [
    "print(names_list)\n",
    "pop_return = names_list.pop()\n",
    "\n",
    "print(pop_return)\n",
    "print(names_list)"
   ]
  },
  {
   "cell_type": "markdown",
   "metadata": {},
   "source": [
    "Also, we can clear all data from the list by using clear() function:"
   ]
  },
  {
   "cell_type": "code",
   "execution_count": 208,
   "metadata": {},
   "outputs": [
    {
     "name": "stdout",
     "output_type": "stream",
     "text": [
      "[]\n"
     ]
    }
   ],
   "source": [
    "names_list.clear()\n",
    "\n",
    "print(names_list)"
   ]
  },
  {
   "cell_type": "markdown",
   "metadata": {},
   "source": [
    "We can delete whole list:"
   ]
  },
  {
   "cell_type": "code",
   "execution_count": 209,
   "metadata": {},
   "outputs": [],
   "source": [
    "#del names_list"
   ]
  },
  {
   "cell_type": "markdown",
   "metadata": {},
   "source": [
    "## Dictionary"
   ]
  },
  {
   "cell_type": "markdown",
   "metadata": {},
   "source": [
    "Dictionary is a collection of variables which are unordered, indexed and changeable. Variable in a dictionary called item. Instead of indices, dictionary using keys – a name of the item. "
   ]
  },
  {
   "cell_type": "markdown",
   "metadata": {},
   "source": [
    "A dictionary is created by stating key-value pair (in our case is name – IBM5100) inside of the curly brackets:"
   ]
  },
  {
   "cell_type": "code",
   "execution_count": 210,
   "metadata": {},
   "outputs": [
    {
     "name": "stdout",
     "output_type": "stream",
     "text": [
      "{'Name': 'IBM 5100'}\n"
     ]
    }
   ],
   "source": [
    "computer = {'Name' : 'IBM 5100'}\n",
    "\n",
    "print(computer)"
   ]
  },
  {
   "cell_type": "markdown",
   "metadata": {},
   "source": [
    "You can add as much key-value pairs as you like:"
   ]
  },
  {
   "cell_type": "code",
   "execution_count": 211,
   "metadata": {},
   "outputs": [
    {
     "name": "stdout",
     "output_type": "stream",
     "text": [
      "{'Name': 'IBM 5100', 'Price': 20000, 'Year': 1975}\n"
     ]
    }
   ],
   "source": [
    "computer = {'Name' : 'IBM 5100', 'Price' : 20000, 'Year' : 1975}\n",
    "\n",
    "print(computer)"
   ]
  },
  {
   "cell_type": "markdown",
   "metadata": {},
   "source": [
    "### Access items"
   ]
  },
  {
   "cell_type": "markdown",
   "metadata": {},
   "source": [
    "You can access item by writing a name of the dictionary with key of a needed element in square brackets:"
   ]
  },
  {
   "cell_type": "code",
   "execution_count": 212,
   "metadata": {},
   "outputs": [
    {
     "name": "stdout",
     "output_type": "stream",
     "text": [
      "IBM 5100\n",
      "IBM 5100\n"
     ]
    }
   ],
   "source": [
    "print(computer['Name'])\n",
    "\n",
    "#Same result\n",
    "\n",
    "print(computer.get('Name'))\n"
   ]
  },
  {
   "cell_type": "markdown",
   "metadata": {},
   "source": [
    "### Change and add items"
   ]
  },
  {
   "cell_type": "markdown",
   "metadata": {},
   "source": [
    "Similarly to list, you can change item by it’s name:"
   ]
  },
  {
   "cell_type": "code",
   "execution_count": 213,
   "metadata": {},
   "outputs": [
    {
     "name": "stdout",
     "output_type": "stream",
     "text": [
      "{'Name': 'Macintosh', 'Price': 20000, 'Year': 1975}\n"
     ]
    }
   ],
   "source": [
    "computer['Name'] = 'Macintosh'\n",
    "\n",
    "print(computer)"
   ]
  },
  {
   "cell_type": "markdown",
   "metadata": {},
   "source": [
    "You can add a new item by using new key-value pair:"
   ]
  },
  {
   "cell_type": "code",
   "execution_count": 214,
   "metadata": {},
   "outputs": [
    {
     "name": "stdout",
     "output_type": "stream",
     "text": [
      "{'Name': 'Macintosh', 'Price': 20000, 'Year': 1975, 'Mass': 24}\n"
     ]
    }
   ],
   "source": [
    "computer['Mass'] = 24\n",
    "\n",
    "print(computer)"
   ]
  },
  {
   "cell_type": "markdown",
   "metadata": {},
   "source": [
    "### Deleting"
   ]
  },
  {
   "cell_type": "markdown",
   "metadata": {},
   "source": [
    "You can remove items as in lists with del, remove() or pop()."
   ]
  },
  {
   "cell_type": "code",
   "execution_count": 215,
   "metadata": {},
   "outputs": [
    {
     "name": "stdout",
     "output_type": "stream",
     "text": [
      "{'Name': 'Macintosh', 'Year': 1975, 'Mass': 24}\n",
      "{'Name': 'Macintosh', 'Mass': 24}\n",
      "{'Name': 'Macintosh'}\n"
     ]
    }
   ],
   "source": [
    "#Returns and deletes exact item by key\n",
    "del computer['Price']\n",
    "print(computer)\n",
    "\n",
    "#Same as previous\n",
    "computer.pop('Year')\n",
    "print(computer)\n",
    "\n",
    "#Returns and deletes last item in the dictionary\n",
    "computer.popitem()\n",
    "print(computer)\n",
    "\n",
    "#Deletes the dictionary\n",
    "del computer\n",
    "\n"
   ]
  },
  {
   "cell_type": "markdown",
   "metadata": {},
   "source": [
    "# Exercises"
   ]
  },
  {
   "cell_type": "code",
   "execution_count": 10,
   "metadata": {},
   "outputs": [
    {
     "name": "stdout",
     "output_type": "stream",
     "text": [
      "4\n",
      "['Andrew', 'Stan', 'Maria', 'Michael', 'Paul']\n",
      "['Andrew', 'Maria', 'Michael', 'Paul']\n",
      "3\n",
      "{'Name': ['Andrew', 'Maria', 'Michael', 'Paul'], 'Grade': [3, 4, 3, '-']}\n"
     ]
    }
   ],
   "source": [
    "# Here is  a list of students\n",
    "students_names = ['Andrew', 'Stan', 'Maria', 'Michael']\n",
    "\n",
    "# Here is a list of their grades \n",
    "grades = [3, 4, 4, 2]\n",
    "\n",
    "# Access Maria's grades in the list and output name and grade\n",
    "# Use print() function and string formating \n",
    "print(grades[2])\n",
    "\n",
    "# We have a new student! His name is Paul. Add a student name to the list!\n",
    "students_names.append('Paul')\n",
    "grades.append('-')\n",
    "\n",
    "# Print whole list to make sure that it is there\n",
    "print(students_names)\n",
    "\n",
    "# Unfortunately, one of the students left from the course! \n",
    "# His name is Stan. Delete name of the student and his grade.\n",
    "del students_names[1]\n",
    "del grades[1]\n",
    "\n",
    "# Make sure that you deleted data about Stan by printing lists\n",
    "print(students_names)\n",
    "\n",
    "# Seems to be that we made a mistake! Michael's grade is 3!\n",
    "# Change it!\n",
    "grades[2] = 3\n",
    "print(grades[2])\n",
    "\n",
    "# Create a dictionary with names and grades keys\n",
    "# Assign students_names list to name key of the dictionary\n",
    "# Assign grades to the grades key\n",
    "# Print out resulting dictionary\n",
    "\n",
    "course = {'Name' : students_names, 'Grade': grades}\n",
    "print(course)\n",
    "\n"
   ]
  },
  {
   "cell_type": "markdown",
   "metadata": {},
   "source": [
    "# Conclusion"
   ]
  },
  {
   "cell_type": "markdown",
   "metadata": {},
   "source": [
    "Today we learned how to:\n",
    "- Make a list and do basic operations on it\n",
    "- Make a dictionary and do basic operations on it"
   ]
  }
 ],
 "metadata": {
  "kernelspec": {
   "display_name": "Python 3",
   "language": "python",
   "name": "python3"
  },
  "language_info": {
   "codemirror_mode": {
    "name": "ipython",
    "version": 3
   },
   "file_extension": ".py",
   "mimetype": "text/x-python",
   "name": "python",
   "nbconvert_exporter": "python",
   "pygments_lexer": "ipython3",
   "version": "3.7.3"
  }
 },
 "nbformat": 4,
 "nbformat_minor": 2
}

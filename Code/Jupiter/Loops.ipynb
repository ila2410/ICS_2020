{
 "cells": [
  {
   "cell_type": "markdown",
   "metadata": {},
   "source": [
    "# Loops"
   ]
  },
  {
   "cell_type": "markdown",
   "metadata": {},
   "source": [
    "Loops are sets of instructions, which are repeated for some number of times or till some condition. They are a basic building block of programming "
   ]
  },
  {
   "cell_type": "markdown",
   "metadata": {},
   "source": [
    "## For loop"
   ]
  },
  {
   "cell_type": "markdown",
   "metadata": {},
   "source": [
    "For loops are iterating though some sequence. "
   ]
  },
  {
   "cell_type": "markdown",
   "metadata": {},
   "source": [
    "### Range() function"
   ]
  },
  {
   "cell_type": "markdown",
   "metadata": {},
   "source": [
    "Range function creates a sequence of number. "
   ]
  },
  {
   "cell_type": "code",
   "execution_count": 14,
   "metadata": {},
   "outputs": [
    {
     "name": "stdout",
     "output_type": "stream",
     "text": [
      "Output [2, 4, 6, 8, 10, 12, 14, 16, 18]\n"
     ]
    }
   ],
   "source": [
    "# Create a range of from 0 to 8\n",
    "range_to_8 = range(8)\n",
    "\n",
    "# To see the output we can convert it to list using list()\n",
    "list_range_to_8 = list(range_to_8)\n",
    "\n",
    "# Print it out to see\n",
    "#print(list_range_to_8)\n",
    "\n",
    "# Also we can create a range starting from any number as so: range(3, 7)\n",
    "#print(range(3, 7))\n",
    "\n",
    "# We can specify step as well range(2, 20, 2)\n",
    "print('Output', list(range(2, 20, 2)))\n"
   ]
  },
  {
   "cell_type": "markdown",
   "metadata": {},
   "source": [
    "### Iterate trhough range"
   ]
  },
  {
   "cell_type": "code",
   "execution_count": 23,
   "metadata": {},
   "outputs": [
    {
     "name": "stdout",
     "output_type": "stream",
     "text": [
      "Sum is: 0\n",
      "Sum is: 1\n",
      "Sum is: 3\n",
      "Sum is: 6\n",
      "Sum is: 10\n",
      "Sum is: 15\n",
      "Sum is: 21\n",
      "Sum is: 28\n",
      "Sum is: 36\n",
      "Sum is: 45\n",
      "Sum is: 55\n"
     ]
    }
   ],
   "source": [
    "#Create a variable which will hold a sum\n",
    "sum = 0\n",
    "\n",
    "#Now iterate through range and add each number\n",
    "# to a sum variable\n",
    "for number in range(11):\n",
    "    sum += number\n",
    "    print('Sum is:', sum)"
   ]
  },
  {
   "cell_type": "markdown",
   "metadata": {},
   "source": [
    "## Iterating through string"
   ]
  },
  {
   "cell_type": "markdown",
   "metadata": {},
   "source": [
    "We can iterate trhough characters in strings as follows:"
   ]
  },
  {
   "cell_type": "code",
   "execution_count": 26,
   "metadata": {},
   "outputs": [
    {
     "name": "stdout",
     "output_type": "stream",
     "text": [
      "b\n",
      "e\n",
      " \n",
      "s\n",
      "u\n",
      "r\n",
      "e\n"
     ]
    }
   ],
   "source": [
    "quote = 'To be sure of hitting the target, shoot first, and call whatever you hit the target.'\n",
    "\n",
    "# Iterate for each of the characters\n",
    "\n",
    "# You can iterate through one part of the string[3:10]:\n",
    "# See what happens \n",
    "for character in quote[3:10]:\n",
    "    print(character)"
   ]
  },
  {
   "cell_type": "markdown",
   "metadata": {},
   "source": [
    "### Iterating through list"
   ]
  },
  {
   "cell_type": "markdown",
   "metadata": {},
   "source": [
    "You can iterate through lists:"
   ]
  },
  {
   "cell_type": "code",
   "execution_count": 30,
   "metadata": {},
   "outputs": [
    {
     "name": "stdout",
     "output_type": "stream",
     "text": [
      "Ford\n",
      "Hyundai\n",
      "Honda\n",
      "GMC\n"
     ]
    }
   ],
   "source": [
    "car_companies = ['Ford', 'Subaru', 'Hyundai', 'Honda', 'GMC']\n",
    "\n",
    "# We can iterate through lists as well!\n",
    "for company in car_companies:\n",
    "    if company == 'Subaru':\n",
    "        continue\n",
    "    print(company)\n"
   ]
  },
  {
   "cell_type": "markdown",
   "metadata": {},
   "source": [
    "### Iterating through dictionary"
   ]
  },
  {
   "cell_type": "markdown",
   "metadata": {},
   "source": [
    "We can iterate through dictionaries as well:"
   ]
  },
  {
   "cell_type": "code",
   "execution_count": 32,
   "metadata": {},
   "outputs": [
    {
     "name": "stdout",
     "output_type": "stream",
     "text": [
      "Name Phill\n",
      "Age 45\n"
     ]
    }
   ],
   "source": [
    "user = {'Name' : 'Phill', 'Age' : 45}\n",
    "\n",
    "for key in user.keys():\n",
    "    print(key, user[key])\n"
   ]
  },
  {
   "cell_type": "markdown",
   "metadata": {},
   "source": [
    "## While loop"
   ]
  },
  {
   "cell_type": "markdown",
   "metadata": {},
   "source": [
    "While loops are iterating till some condition is True. "
   ]
  },
  {
   "cell_type": "code",
   "execution_count": 29,
   "metadata": {},
   "outputs": [
    {
     "name": "stdout",
     "output_type": "stream",
     "text": [
      "0\n",
      "1\n",
      "2\n",
      "3\n",
      "4\n",
      "5\n",
      "Now we are not in the loop!\n"
     ]
    }
   ],
   "source": [
    "# Create count variable\n",
    "count = 0\n",
    "\n",
    "# Iterate while count < 20\n",
    "while count < 20:\n",
    "    # Print count number\n",
    "    print(count)\n",
    "    if count == 5:\n",
    "        break\n",
    "    # Add one to count \n",
    "    count += 1\n",
    "print('Now we are not in the loop!')"
   ]
  },
  {
   "cell_type": "markdown",
   "metadata": {},
   "source": [
    "With while loop we can use else statement, which you know from if-else:"
   ]
  },
  {
   "cell_type": "code",
   "execution_count": 29,
   "metadata": {},
   "outputs": [],
   "source": [
    "# Copy code above \n",
    "\n",
    "# Add else statement\n",
    "\n"
   ]
  },
  {
   "cell_type": "code",
   "execution_count": null,
   "metadata": {},
   "outputs": [],
   "source": [
    "\n",
    "# You can escape the loop by\n",
    "#break\n",
    "\n",
    "# Or skip some iteration by\n",
    "#continue"
   ]
  },
  {
   "cell_type": "code",
   "execution_count": null,
   "metadata": {},
   "outputs": [],
   "source": [
    "# Create a range of from 0 to 8\n",
    "range_to_8 = range(8)"
   ]
  }
 ],
 "metadata": {
  "kernelspec": {
   "display_name": "Python 3",
   "language": "python",
   "name": "python3"
  },
  "language_info": {
   "codemirror_mode": {
    "name": "ipython",
    "version": 3
   },
   "file_extension": ".py",
   "mimetype": "text/x-python",
   "name": "python",
   "nbconvert_exporter": "python",
   "pygments_lexer": "ipython3",
   "version": "3.7.3"
  }
 },
 "nbformat": 4,
 "nbformat_minor": 2
}

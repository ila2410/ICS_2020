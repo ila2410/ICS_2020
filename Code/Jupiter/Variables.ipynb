{
 "cells": [
  {
   "cell_type": "markdown",
   "metadata": {},
   "source": [
    "# Python Variables"
   ]
  },
  {
   "cell_type": "markdown",
   "metadata": {},
   "source": [
    "We need some way of storing any information and manipulate it. This is where variables come into the picture. Variables are exactly what the name implies - their value can vary, i.e., you can store anything using a variable. Variables are just parts of your computer's memory where you store some information. Unlike literal constants, you need some method of accessing these variables and hence you give them names. <br> We will cover three major topics here: Numerical data, Text data and  naming rules."
   ]
  },
  {
   "cell_type": "markdown",
   "metadata": {},
   "source": [
    "## Ingredients to this lecture"
   ]
  },
  {
   "cell_type": "markdown",
   "metadata": {},
   "source": [
    "Comment ---> Starts with # character.=====>**Example:** #This is the typical comment\n",
    "<br>Input ---------> Made by *input()* function. ===>**Example:** input('Type you number')\n",
    "<br>Output -------> Made by *print()* function. ====>**Example:** print(variable_name)"
   ]
  },
  {
   "cell_type": "markdown",
   "metadata": {},
   "source": [
    "## Text data"
   ]
  },
  {
   "cell_type": "markdown",
   "metadata": {},
   "source": [
    "### String"
   ]
  },
  {
   "cell_type": "markdown",
   "metadata": {},
   "source": [
    "String represents text data. A string is a sequence of characters. Strings are basically just a bunch of words.\n",
    "You will be using strings in almost every Python program that you write, so pay attention to the following part. String always is enclosed into quotation marks '' or \"\"."
   ]
  },
  {
   "cell_type": "code",
   "execution_count": 6,
   "metadata": {},
   "outputs": [
    {
     "name": "stdout",
     "output_type": "stream",
     "text": [
      "Hello World\n",
      "14\n"
     ]
    }
   ],
   "source": [
    "string = 'Hello World'\n",
    "string_2 = \"Hi\"\n",
    "\n",
    "print(string)\n",
    "\n",
    "#Answer = input(\"Question? \")\n",
    "\n",
    "#print(\"Answer \\\"\" + Answer + \"\\\" is correct\")\n",
    "#print(string.format(Answer))\n",
    "\n",
    "#Form\n",
    "#name = input(\"What\\'s your name? \")\n",
    "#age = input (\"How many years old are you? \")\n",
    "\n",
    "#print(\"The person\\'s name is {} and they are {} years old.\".format(name, age))\n",
    "\n",
    "test = int(14.5)\n",
    "print(test)"
   ]
  },
  {
   "cell_type": "markdown",
   "metadata": {},
   "source": [
    "### Operations on string"
   ]
  },
  {
   "cell_type": "markdown",
   "metadata": {},
   "source": [
    "You can access a single character from string. Each character marked from 0 to number of characters. For example:"
   ]
  },
  {
   "cell_type": "code",
   "execution_count": 2,
   "metadata": {},
   "outputs": [
    {
     "name": "stdout",
     "output_type": "stream",
     "text": [
      "HHi\n"
     ]
    }
   ],
   "source": [
    "print(string[0]+string_2[0]+string_2[1])\n",
    "\n",
    "#Try it for yourself!\n"
   ]
  },
  {
   "cell_type": "markdown",
   "metadata": {},
   "source": [
    "Once String is initiated, you cannot directly change it (characters in it). It will show following error:"
   ]
  },
  {
   "cell_type": "code",
   "execution_count": 3,
   "metadata": {
    "scrolled": true
   },
   "outputs": [
    {
     "ename": "TypeError",
     "evalue": "'str' object does not support item assignment",
     "output_type": "error",
     "traceback": [
      "\u001b[1;31m---------------------------------------------------------------------------\u001b[0m",
      "\u001b[1;31mTypeError\u001b[0m                                 Traceback (most recent call last)",
      "\u001b[1;32m<ipython-input-3-a3aa5090d88a>\u001b[0m in \u001b[0;36m<module>\u001b[1;34m\u001b[0m\n\u001b[1;32m----> 1\u001b[1;33m \u001b[0mstring\u001b[0m\u001b[1;33m[\u001b[0m\u001b[1;36m0\u001b[0m\u001b[1;33m]\u001b[0m \u001b[1;33m=\u001b[0m \u001b[1;34m'L'\u001b[0m\u001b[1;33m\u001b[0m\u001b[1;33m\u001b[0m\u001b[0m\n\u001b[0m",
      "\u001b[1;31mTypeError\u001b[0m: 'str' object does not support item assignment"
     ]
    }
   ],
   "source": [
    "string[0] = 'L'"
   ]
  },
  {
   "cell_type": "markdown",
   "metadata": {},
   "source": [
    "To change string value, you need to initiate it again:"
   ]
  },
  {
   "cell_type": "code",
   "execution_count": 9,
   "metadata": {},
   "outputs": [
    {
     "name": "stdout",
     "output_type": "stream",
     "text": [
      "New string value\n",
      "also new\n",
      "also new New string valueTest\n"
     ]
    }
   ],
   "source": [
    "string = 'New string value'\n",
    "print(string)\n",
    "\n",
    "string_2 = 'also new'\n",
    "print(string_2)\n",
    "print(string_2, string + \"Test\")"
   ]
  },
  {
   "cell_type": "markdown",
   "metadata": {},
   "source": [
    "You can concantenate strings. In other words, create string by adding multiple strings together."
   ]
  },
  {
   "cell_type": "code",
   "execution_count": null,
   "metadata": {},
   "outputs": [],
   "source": [
    "hello = 'Hello'\n",
    "world = 'World'\n",
    "exclamation_mark = '!'\n",
    "\n",
    "# We can sum up strings with each other\n",
    "hello_world = hello + world + exclamation_mark\n",
    "print(hello_world)\n",
    "\n",
    "#Same thing, but adding other parts to old value of hello variable\n",
    "hello = hello+\" \"+world + exclamation_mark\n",
    "print(hello)\n"
   ]
  },
  {
   "cell_type": "markdown",
   "metadata": {},
   "source": [
    "### Formatting the string"
   ]
  },
  {
   "cell_type": "markdown",
   "metadata": {},
   "source": [
    "You can format the string by using format() method. By using this method you can add some value to the string in any place. In Python 3 you should add to the string {} brackets. For example:"
   ]
  },
  {
   "cell_type": "code",
   "execution_count": null,
   "metadata": {},
   "outputs": [],
   "source": [
    "#Get student name from user using input() method\n",
    "student_name = input('What is the name of student?')\n",
    "#Get grade from user using input() method\n",
    "grade = input('What is the student\\'s grade?')\n",
    "\n",
    "message = 'Course grade of {} is {}'\n",
    "print(message.format(student_name, grade))\n",
    "\n",
    "#  OR\n",
    "\n",
    "#print('Course grade of {} is {}'.format(student_name, grade))\n"
   ]
  },
  {
   "cell_type": "markdown",
   "metadata": {},
   "source": [
    "It is extremely useful when you need standard output. "
   ]
  },
  {
   "cell_type": "code",
   "execution_count": null,
   "metadata": {},
   "outputs": [],
   "source": [
    "#For example you made a forecast app\n",
    "#There can be a lot of users\n",
    "user_name = input('Hello! What is your name? ')\n",
    "\n",
    "#Depending on the weather, values can change\n",
    "rainy = 'Today is rainy! Don\\'t forget your raincoat!'\n",
    "sunny = 'Today is sunny! Drink more and wear a hat!'\n",
    "\n",
    "temp_outside = 25 \n",
    "\n",
    "#Today is sunny and 25 degrees\n",
    "print('Hello, {}! {} Temperature outside is {} degrees.'.format(user_name, sunny, temp_outside))\n",
    "\n",
    "#But suddenly rainstorm came\n",
    "#temp_outside = 18 \n",
    "\n",
    "#print('Hello, {}! {} Temperature is {} degrees.'.format(user_name, rainy, temp_outside))"
   ]
  },
  {
   "cell_type": "markdown",
   "metadata": {},
   "source": [
    "## Numerical types"
   ]
  },
  {
   "cell_type": "markdown",
   "metadata": {},
   "source": [
    "### Integers"
   ]
  },
  {
   "cell_type": "markdown",
   "metadata": {},
   "source": [
    "Integers are is a whole number. In python, they are signed, meaning, that they can hold negative and positive value. \n",
    "Go ahead and try to change values of integers:"
   ]
  },
  {
   "cell_type": "code",
   "execution_count": null,
   "metadata": {},
   "outputs": [],
   "source": [
    "# Initialiazing of integer_1 variable\n",
    "integer_1 = 10\n",
    "\n",
    "# Initialiazing of integer 2 variable\n",
    "integer_2 = -4\n",
    "\n",
    "# Initialiazing of multiple variables can be\n",
    "# done in more compact way\n",
    "integer_3, integer_4 = 2, 7 \n",
    "\n",
    "print(integer_1+integer_2+integer_3,integer_4)\n"
   ]
  },
  {
   "cell_type": "markdown",
   "metadata": {},
   "source": [
    "### Float"
   ]
  },
  {
   "cell_type": "markdown",
   "metadata": {},
   "source": [
    "Floats are floating point numbers, meaning they have a decimal place. Same as integers, they are signed and can hold positive and negative values. Try to change float values here:"
   ]
  },
  {
   "cell_type": "code",
   "execution_count": null,
   "metadata": {},
   "outputs": [],
   "source": [
    "# Initialiazing of integer_1 variable\n",
    "float_1 = 15.57\n",
    "\n",
    "# Initialiazing of integer 2 variable\n",
    "float_2 = 3.78\n",
    "\n",
    "\n",
    "# Printing integer value\n",
    "print('Integer 1 equals to:', integer_1)\n",
    "\n",
    "#========================================================#\n",
    "\n",
    "#Initialize here new integers and print them using print()\n",
    "float_life = 42.42\n",
    "#Print values of \n",
    "print(float_life)\n",
    "\n",
    "#========================================================#\n",
    "\n",
    "#Initialize here new integers and print them using print()\n",
    "float_pi = 3.1415926535\n",
    "#Print values of \n",
    "print('pi equals:', str(float_pi) + str(float_life))\n"
   ]
  },
  {
   "cell_type": "markdown",
   "metadata": {},
   "source": [
    "### Complex"
   ]
  },
  {
   "cell_type": "markdown",
   "metadata": {},
   "source": [
    "Complex are numbers with real and imaginary parts. "
   ]
  },
  {
   "cell_type": "code",
   "execution_count": 14,
   "metadata": {},
   "outputs": [],
   "source": [
    "#Real part in this variable is 10 and imaginary is 5j\n",
    "complex_1 = 10+5j\n",
    "message_for_today='today{}'.format('hi')"
   ]
  },
  {
   "cell_type": "markdown",
   "metadata": {},
   "source": [
    "## Numerical data operations"
   ]
  },
  {
   "cell_type": "markdown",
   "metadata": {},
   "source": [
    "| Operator | Name      |               Description                   |  \n",
    "|:----------:|:-----------:| :--------------------------------------------:| \n",
    "|    +     |Addition|Adds values on either side of the operator.| \n",
    "|    -     |Subtraction| Subtracts right hand operand from left hand operand.| \n",
    "|    *     |Multiplication|Multiplies values on either side of the operator.|\n",
    "|    /     |Division|Divides left hand operand by right hand operand|\n",
    "|    %     |Modulus|Divides left hand operand by right hand operand and returns remainder|\n",
    "|    **    |Exponent|Performs exponential (power) calculation on operators|\n",
    "|    //    |Floor Division|The division of operands where the result is the quotient in which the digits after the decimal point are removed. But if one of the operands is negative, the result is floored, i.e., rounded away from zero (towards negative infinity).|"
   ]
  },
  {
   "cell_type": "markdown",
   "metadata": {},
   "source": [
    "### Example"
   ]
  },
  {
   "cell_type": "code",
   "execution_count": null,
   "metadata": {},
   "outputs": [],
   "source": [
    "#Initializing variables\n",
    "int_1 = 10\n",
    "int_2 = 3\n",
    "float_1 = 14.5\n",
    "float_2 = 25.9\n",
    "\n",
    "#Addition\n",
    "Sum = int_1 + int_2\n",
    "print('Sum of {} and {} equals to {}'.format(int_1, int_2, Sum))\n",
    "\n",
    "#Substraction\n",
    "difference = int_1 - int_2\n",
    "print('Difference of {} and {} equals to {}'.format(int_1, int_2, difference))\n",
    "\n",
    "#Multiplication\n",
    "product = int_1 * int_2\n",
    "print('Product of {} and {} equals to {}'.format(int_1, int_2, product))\n",
    "\n",
    "#Division\n",
    "quotient = int_1 / int_2\n",
    "print('Quotient of {} and {} equals to {}'.format(int_1, int_2, quotient))\n",
    "\n",
    "#Modulus\n",
    "modulus = float_2 % float_1\n",
    "print('Modulus of {} and {} equals to {}'.format(float_2, float_1, modulus ))\n",
    "\n",
    "#Exponent\n",
    "exponent = float_1 ** int_2 \n",
    "print('{} in power of {} equals to {}'.format(float_1, int_2, exponent))\n",
    "\n",
    "#Floor division\n",
    "floor = float_2 // int_1\n",
    "print('Floor of {} / {} equals to {}'.format(float_2, int_1, floor))\n"
   ]
  },
  {
   "cell_type": "markdown",
   "metadata": {},
   "source": [
    "### Exercise"
   ]
  },
  {
   "cell_type": "markdown",
   "metadata": {},
   "source": [
    "Define volume (V) of the cylinder, if it's radius (r) equal to 2.5 meters and height (H) is 3 meters. "
   ]
  },
  {
   "cell_type": "markdown",
   "metadata": {},
   "source": [
    "$V= {\\pi}*r^2*H$"
   ]
  },
  {
   "cell_type": "code",
   "execution_count": null,
   "metadata": {},
   "outputs": [],
   "source": [
    "pi = 3.14159265358979323846\n",
    "\n",
    "#Ask radius from user\n",
    "radius = input(\"What\\'s the radius? \")\n",
    "radius_float = float(radius)\n",
    "\n",
    "#Ask height from user\n",
    "height = input(\"What\\'s the height? \")\n",
    "height_float = float(height)\n",
    "\n",
    "#print(\"The type of pi is a\", type(pi))\n",
    "\n",
    "#Calculate volume\n",
    "volume = pi * radius_float ** 2 * height_float\n",
    "\n",
    "#Volume = (PI*r^2)*H\n",
    "print(\"The volume is: {}\".format(volume))"
   ]
  },
  {
   "cell_type": "markdown",
   "metadata": {},
   "source": [
    "## Boolean"
   ]
  },
  {
   "cell_type": "markdown",
   "metadata": {},
   "source": [
    "True or False variables. Used for tracking of events. They will be very useful in flow control and while loops."
   ]
  },
  {
   "cell_type": "code",
   "execution_count": null,
   "metadata": {},
   "outputs": [],
   "source": [
    "bool_1 = True\n",
    "bool_2 = 5<1\n",
    "print(bool_1 and not bool_2)"
   ]
  },
  {
   "cell_type": "markdown",
   "metadata": {},
   "source": [
    "### Boolean operations"
   ]
  },
  {
   "cell_type": "markdown",
   "metadata": {},
   "source": [
    "Today we will cover two boolean operations: AND, OR"
   ]
  },
  {
   "cell_type": "code",
   "execution_count": null,
   "metadata": {},
   "outputs": [],
   "source": [
    "# Both values are True then boolean -> result equals to True, otherwise False\n",
    "bool_3 = bool_1 and bool_2\n",
    "print(bool_3)\n",
    "\n",
    "# If one of the values equals True -> equals True, otherwise False\n",
    "bool_4 = bool_3 or bool_2\n",
    "print(bool_4)\n"
   ]
  },
  {
   "cell_type": "markdown",
   "metadata": {},
   "source": [
    "## Defining type of variable"
   ]
  },
  {
   "cell_type": "markdown",
   "metadata": {},
   "source": [
    "You can define type of a variable by using type() function:"
   ]
  },
  {
   "cell_type": "code",
   "execution_count": null,
   "metadata": {},
   "outputs": [],
   "source": [
    "#Defining type of the variable\n",
    "print('Type of {} is {}'.format(integer_1, type(integer_1)))\n",
    "print('Type of ', float_1, 'is', type(float_1))\n",
    "print('Type of ', complex_1, 'is', type(complex_1))\n",
    "print('Type of', string, 'is', type(string))\n",
    "print('===========================================')\n",
    "\n",
    "# or \n",
    "# we can achieve the same without initialization\n",
    "print('Type of ', 10, 'is',type(10))\n",
    "print('Type of ', 15.57, 'is', type(15.57))\n",
    "print('Type of ', 10+5j, 'is',type(10+5j))\n",
    "print('Type of', 'Hello World!', 'is', type('Hello World!'))"
   ]
  },
  {
   "cell_type": "markdown",
   "metadata": {},
   "source": [
    "### Excercise"
   ]
  },
  {
   "cell_type": "markdown",
   "metadata": {},
   "source": [
    "Define type of the following variables using type() function. Output the result via print() function."
   ]
  },
  {
   "cell_type": "code",
   "execution_count": null,
   "metadata": {},
   "outputs": [],
   "source": [
    "\n",
    "PI = '3.14'\n",
    "\n",
    "variable_1 = float(PI) + 2 + 7j\n",
    "variable_3 = 3.14 + 2+7j\n",
    "\n",
    "lyrics = 'Roses are red, violets are blue'\n",
    "\n",
    "comparison = type(variable_1) == type(variable_3)\n",
    "\n",
    "print(\"Type of {} is {}.\".format(\"PI\", type(PI)))\n",
    "print(\"Type of {} is {}.\".format(lyrics, type(lyrics)))\n",
    "print(\"Type of {} is {}.\".format(comparison, type(comparison)))\n"
   ]
  },
  {
   "cell_type": "markdown",
   "metadata": {},
   "source": [
    "# Types conversion"
   ]
  },
  {
   "cell_type": "markdown",
   "metadata": {},
   "source": [
    "We can convert one type to another. For example, we can convert float to int, long and complex"
   ]
  },
  {
   "cell_type": "code",
   "execution_count": 8,
   "metadata": {},
   "outputs": [
    {
     "name": "stdout",
     "output_type": "stream",
     "text": [
      "Value before conversion:  14.9\n",
      "====================================\n",
      "Value after conversion into int:  14 \t\t\tType: <class 'int'>\n",
      "Value after conversion into complex:  (14.9+0j) \tType: <class 'complex'>\n",
      "Value after conversion into complex:  14.9 \t\tType: <class 'str'>\n"
     ]
    }
   ],
   "source": [
    "#Convert float into integer\n",
    "float_1=14.9\n",
    "float_to_int = int(float_1)\n",
    "print('Value before conversion: ', float_1)\n",
    "print('====================================')\n",
    "print('Value after conversion into int: ', float_to_int, '\\t\\t\\tType:', type(float_to_int))\n",
    "\n",
    "#Convert float into complex\n",
    "float_to_complex = complex(float_1)\n",
    "print('Value after conversion into complex: ', float_to_complex, '\\tType:', type(float_to_complex))\n",
    "\n",
    "#Convert float into string\n",
    "float_to_string = str(float_1)\n",
    "print('Value after conversion into complex: ', float_to_string, '\\t\\tType:', type(float_to_string))"
   ]
  },
  {
   "cell_type": "markdown",
   "metadata": {},
   "source": [
    "## Excercise"
   ]
  },
  {
   "cell_type": "markdown",
   "metadata": {},
   "source": [
    "We need to divide students on the course into groups for project! "
   ]
  },
  {
   "cell_type": "code",
   "execution_count": 7,
   "metadata": {},
   "outputs": [
    {
     "name": "stdout",
     "output_type": "stream",
     "text": [
      "How many students are there? 10\n",
      "There will be 3 groups.\n"
     ]
    }
   ],
   "source": [
    "#Amount of students ask amount of students from user and\n",
    "# store value to number_of_students variable\n",
    "number_of_students_str = input(\"How many students are there? \")\n",
    "#print(number_of_students_str)\n",
    "number_of_students = int(number_of_students_str)\n",
    "\n",
    "#Divide into groups of 3 students and\n",
    "# assign result to the number_of_groups_float variable\n",
    "number_of_groups_float = number_of_students / 3\n",
    "#print(number_of_groups_float)\n",
    "\n",
    "#If we have number of students which is multiple of 3 everything is tip-top. \n",
    "#If number of students is not multiple to 3 we have some troubles.\n",
    "#We cannot make, for example, 5.7 groups.  \n",
    "#Convert float to integer\n",
    "# and store result to the number_of_groups variable\n",
    "number_of_groups = int(number_of_groups_float)\n",
    "\n",
    "#Print amount of groups using print() \n",
    "print(\"There will be {} groups.\".format(number_of_groups))"
   ]
  },
  {
   "cell_type": "markdown",
   "metadata": {},
   "source": [
    "# Naming Conventions"
   ]
  },
  {
   "cell_type": "markdown",
   "metadata": {},
   "source": [
    "Python is case sensitive. Meaning, if you name variable using capital letters and call it with lower case letters it will raise error. For example:"
   ]
  },
  {
   "cell_type": "code",
   "execution_count": null,
   "metadata": {},
   "outputs": [],
   "source": [
    "Case_1 = 2\n",
    "\n",
    "#For Python case_1 is a different variable, which wasn't declared yet\n",
    "\n",
    "print(case_1)\n"
   ]
  },
  {
   "cell_type": "markdown",
   "metadata": {},
   "source": [
    "Avoid using too general names. For example: variable_1, number_1, my_list. Instead use descriptive names. <br> For example, if you need to store the name of student use: student_name"
   ]
  },
  {
   "cell_type": "markdown",
   "metadata": {},
   "source": [
    "You can use underscores or camelcase: under_score CamelCase"
   ]
  },
  {
   "cell_type": "markdown",
   "metadata": {},
   "source": [
    "Don't start names from number:"
   ]
  },
  {
   "cell_type": "code",
   "execution_count": null,
   "metadata": {},
   "outputs": [],
   "source": [
    "1_variable = 2"
   ]
  },
  {
   "cell_type": "markdown",
   "metadata": {},
   "source": [
    "Don't start from signs:"
   ]
  },
  {
   "cell_type": "code",
   "execution_count": 10,
   "metadata": {},
   "outputs": [
    {
     "name": "stderr",
     "output_type": "stream",
     "text": [
      "Der Befehl \"_variable\" ist entweder falsch geschrieben oder\n",
      "konnte nicht gefunden werden.\n"
     ]
    }
   ],
   "source": [
    "!_variable = 2"
   ]
  },
  {
   "cell_type": "markdown",
   "metadata": {},
   "source": [
    "# Conclusion"
   ]
  },
  {
   "cell_type": "markdown",
   "metadata": {},
   "source": [
    "Today we learned:"
   ]
  },
  {
   "cell_type": "markdown",
   "metadata": {},
   "source": [
    "- Comments, Input, Print\n",
    "- Numeric variables and operations with them\n",
    "- String and operations with them (Getting single character, concantenation(addition), formating)\n",
    "- Boolean and operations with them (and, or)\n",
    "- Defining type of variable\n",
    "- Types conversion\n",
    "- Naming rules"
   ]
  }
 ],
 "metadata": {
  "kernelspec": {
   "display_name": "Python 3",
   "language": "python",
   "name": "python3"
  },
  "language_info": {
   "codemirror_mode": {
    "name": "ipython",
    "version": 3
   },
   "file_extension": ".py",
   "mimetype": "text/x-python",
   "name": "python",
   "nbconvert_exporter": "python",
   "pygments_lexer": "ipython3",
   "version": "3.7.3"
  }
 },
 "nbformat": 4,
 "nbformat_minor": 2
}

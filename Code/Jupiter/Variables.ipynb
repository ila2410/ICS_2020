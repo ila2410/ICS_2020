{
 "cells": [
  {
   "cell_type": "markdown",
   "metadata": {},
   "source": [
    "# Python Variables"
   ]
  },
  {
   "cell_type": "markdown",
   "metadata": {},
   "source": [
    "We need some way of storing any information and manipulate it. This is where variables come into the picture. Variables are exactly what the name implies - their value can vary, i.e., you can store anything using a variable. Variables are just parts of your computer's memory where you store some information. Unlike literal constants, you need some method of accessing these variables and hence you give them names."
   ]
  },
  {
   "cell_type": "markdown",
   "metadata": {},
   "source": [
    "## Numerical types"
   ]
  },
  {
   "cell_type": "markdown",
   "metadata": {},
   "source": [
    "### Integers"
   ]
  },
  {
   "cell_type": "markdown",
   "metadata": {},
   "source": [
    "Integers are"
   ]
  },
  {
   "cell_type": "code",
   "execution_count": 2,
   "metadata": {},
   "outputs": [
    {
     "name": "stdout",
     "output_type": "stream",
     "text": [
      "Integer 1 equals to:  10\n",
      "Integer 2 equals to:  4\n",
      "Integer 3 equals to:  2\n",
      "Integer 4 equals to:  7\n"
     ]
    }
   ],
   "source": [
    "# Initialiazing of integer_1 variable\n",
    "integer_1 = 10\n",
    "\n",
    "# Initialiazing of integer 2 variable\n",
    "integer_2 = 4\n",
    "\n",
    "# Initialiazing of multiple variables can be\n",
    "# done in more compact way\n",
    "integer_3, integer_4 = 2, 7 \n",
    "\n",
    "# Printing integer value\n",
    "print('Integer 1 equals to: ', integer_1)\n",
    "print('Integer 2 equals to: ', integer_2)\n",
    "print('Integer 3 equals to: ', integer_3)\n",
    "print('Integer 4 equals to: ', integer_4)"
   ]
  },
  {
   "cell_type": "markdown",
   "metadata": {},
   "source": [
    "### Float"
   ]
  },
  {
   "cell_type": "markdown",
   "metadata": {},
   "source": [
    "Floats are"
   ]
  },
  {
   "cell_type": "code",
   "execution_count": 60,
   "metadata": {},
   "outputs": [],
   "source": [
    "# Initialiazing of integer_1 variable\n",
    "float_1 = 15.57\n",
    "\n",
    "# Initialiazing of integer 2 variable\n",
    "float_2 = 3.78\n",
    "\n",
    "\n"
   ]
  },
  {
   "cell_type": "markdown",
   "metadata": {},
   "source": [
    "### Complex"
   ]
  },
  {
   "cell_type": "markdown",
   "metadata": {},
   "source": [
    "Complex are"
   ]
  },
  {
   "cell_type": "code",
   "execution_count": 46,
   "metadata": {},
   "outputs": [],
   "source": [
    "#Real part in this variable is 10 and imaginary is 5j\n",
    "complex_1 = 10+5j\n"
   ]
  },
  {
   "cell_type": "markdown",
   "metadata": {},
   "source": [
    "## Numerical data operations"
   ]
  },
  {
   "cell_type": "markdown",
   "metadata": {},
   "source": [
    "| Operator | Name      |               Description                   |  \n",
    "|:----------:|:-----------:| :--------------------------------------------:| \n",
    "|    +     |Addition|Adds values on either side of the operator.| \n",
    "|    -     |Subtraction| Subtracts right hand operand from left hand operand.| \n",
    "|    *     |Multiplication|Multiplies values on either side of the operator.|\n",
    "|    /     |Division|Divides left hand operand by right hand operand|\n",
    "|    %     |Modulus|Divides left hand operand by right hand operand and returns remainder|\n",
    "|    **    |Exponent|Performs exponential (power) calculation on operators|\n",
    "|    //    |Floor Division|The division of operands where the result is the quotient in which the digits after the decimal point are removed. But if one of the operands is negative, the result is floored, i.e., rounded away from zero (towards negative infinity).|"
   ]
  },
  {
   "cell_type": "markdown",
   "metadata": {},
   "source": [
    "### Example"
   ]
  },
  {
   "cell_type": "code",
   "execution_count": 84,
   "metadata": {},
   "outputs": [
    {
     "name": "stdout",
     "output_type": "stream",
     "text": [
      "Sum of 10 and 3 equals to 13\n",
      "Modulus of 14.5 and 25.9 equals to 14.5\n",
      "14.5 in power of 3 equals to 3048.625\n",
      "Floor of 25.9 / 10 equals to 2.0\n"
     ]
    }
   ],
   "source": [
    "#Initializing variables\n",
    "int_1 = 10\n",
    "int_2 = 3\n",
    "float_1 = 14.5\n",
    "float_2 = 25.9\n",
    "\n",
    "#Addition\n",
    "Sum = int_1 + int_2\n",
    "print('Sum of {} and {} equals to {}'.format(int_1, int_2, Sum))\n",
    "\n",
    "#Substraction\n",
    "\n",
    "\n",
    "#Multiplication\n",
    "\n",
    "#Division\n",
    "\n",
    "\n",
    "#Modulus\n",
    "modulus = float_1 % float_2\n",
    "print('Modulus of {} and {} equals to {}'.format(float_1, float_2, modulus ))\n",
    "\n",
    "#Exponent\n",
    "exponent = float_1 ** int_2 \n",
    "print('{} in power of {} equals to {}'.format(float_1, int_2, exponent))\n",
    "\n",
    "#Floor division\n",
    "floor = float_2 // int_1\n",
    "print('Floor of {} / {} equals to {}'.format(float_2, int_1, floor))\n"
   ]
  },
  {
   "cell_type": "markdown",
   "metadata": {},
   "source": [
    "### Exercises"
   ]
  },
  {
   "cell_type": "markdown",
   "metadata": {},
   "source": [
    "At the figure shown a cylinder. Define volume (V) of the cylinder, if it's radius (r) equal to 2.5 meters and height (H) is 3 meters. "
   ]
  },
  {
   "cell_type": "markdown",
   "metadata": {},
   "source": [
    "$V= {\\pi}*r^2*H$"
   ]
  },
  {
   "cell_type": "code",
   "execution_count": 74,
   "metadata": {},
   "outputs": [],
   "source": [
    "#Radius\n",
    "\n",
    "#Height\n",
    "\n",
    "#Pi\n",
    "\n",
    "#Volume = (pi*r^2)*H\n"
   ]
  },
  {
   "cell_type": "markdown",
   "metadata": {},
   "source": [
    "# Literals "
   ]
  },
  {
   "cell_type": "code",
   "execution_count": 9,
   "metadata": {},
   "outputs": [
    {
     "ename": "AttributeError",
     "evalue": "module 'constant' has no attribute 'GRAVITY'",
     "output_type": "error",
     "traceback": [
      "\u001b[1;31m---------------------------------------------------------------------------\u001b[0m",
      "\u001b[1;31mAttributeError\u001b[0m                            Traceback (most recent call last)",
      "\u001b[1;32m<ipython-input-9-17a0ea3bb397>\u001b[0m in \u001b[0;36m<module>\u001b[1;34m\u001b[0m\n\u001b[0;32m      1\u001b[0m \u001b[1;32mimport\u001b[0m \u001b[0mconstant\u001b[0m\u001b[1;33m\u001b[0m\u001b[1;33m\u001b[0m\u001b[0m\n\u001b[0;32m      2\u001b[0m \u001b[1;33m\u001b[0m\u001b[0m\n\u001b[1;32m----> 3\u001b[1;33m \u001b[0mpi\u001b[0m \u001b[1;33m=\u001b[0m \u001b[0mconstant\u001b[0m\u001b[1;33m.\u001b[0m\u001b[0mGRAVITY\u001b[0m\u001b[1;33m\u001b[0m\u001b[1;33m\u001b[0m\u001b[0m\n\u001b[0m\u001b[0;32m      4\u001b[0m \u001b[0mprint\u001b[0m\u001b[1;33m(\u001b[0m\u001b[0mpi\u001b[0m\u001b[1;33m)\u001b[0m\u001b[1;33m\u001b[0m\u001b[1;33m\u001b[0m\u001b[0m\n",
      "\u001b[1;31mAttributeError\u001b[0m: module 'constant' has no attribute 'GRAVITY'"
     ]
    }
   ],
   "source": [
    "import constant\n",
    "\n",
    "pi = constant.GRAVITY\n",
    "print(pi)"
   ]
  },
  {
   "cell_type": "markdown",
   "metadata": {},
   "source": [
    "## Text data"
   ]
  },
  {
   "cell_type": "markdown",
   "metadata": {},
   "source": [
    "String represents text data. A string is a sequence of characters. Strings are basically just a bunch of words.\n",
    "You will be using strings in almost every Python program that you write, so pay attention to the following part."
   ]
  },
  {
   "cell_type": "code",
   "execution_count": 32,
   "metadata": {},
   "outputs": [
    {
     "name": "stdout",
     "output_type": "stream",
     "text": [
      "Hello World!\n"
     ]
    }
   ],
   "source": [
    "string = 'Hello World!'\n",
    "print(string)"
   ]
  },
  {
   "cell_type": "markdown",
   "metadata": {},
   "source": [
    "### Operations on string"
   ]
  },
  {
   "cell_type": "code",
   "execution_count": 69,
   "metadata": {},
   "outputs": [
    {
     "name": "stdout",
     "output_type": "stream",
     "text": [
      "HelloWorld!\n"
     ]
    }
   ],
   "source": [
    "hello = 'Hello'\n",
    "world = 'World'\n",
    "exclamation_mark = '!'\n",
    "\n",
    "# We can sum up strings with each other\n",
    "hello_world = hello + world + exclamation_mark\n",
    "print(hello_world)\n"
   ]
  },
  {
   "cell_type": "markdown",
   "metadata": {},
   "source": [
    "### Formatting the string"
   ]
  },
  {
   "cell_type": "code",
   "execution_count": null,
   "metadata": {},
   "outputs": [],
   "source": []
  },
  {
   "cell_type": "markdown",
   "metadata": {},
   "source": [
    "## Boolean"
   ]
  },
  {
   "cell_type": "markdown",
   "metadata": {},
   "source": [
    "True or False variables. "
   ]
  },
  {
   "cell_type": "code",
   "execution_count": 7,
   "metadata": {},
   "outputs": [],
   "source": [
    "bool_1 = True\n",
    "bool_2 = 5<1\n",
    "bool_3 = bool_1 and bool_2\n",
    "bool_4 = bool_3 or bool_2"
   ]
  },
  {
   "cell_type": "markdown",
   "metadata": {},
   "source": [
    "## Defining type of variable"
   ]
  },
  {
   "cell_type": "markdown",
   "metadata": {},
   "source": [
    "You can define type of a variable by using type() function:"
   ]
  },
  {
   "cell_type": "code",
   "execution_count": 90,
   "metadata": {},
   "outputs": [
    {
     "name": "stdout",
     "output_type": "stream",
     "text": [
      "Type of 10 is <class 'int'>\n",
      "Type of  14.5 is <class 'float'>\n",
      "Type of  (10+5j) is <class 'complex'>\n",
      "Type of Hello World! is <class 'str'>\n",
      "===========================================\n",
      "Type of  10 is <class 'int'>\n",
      "Type of  15.57 is <class 'float'>\n",
      "Type of  (10+5j) is <class 'complex'>\n",
      "Type of Hello World! is <class 'str'>\n"
     ]
    }
   ],
   "source": [
    "#Defining type of the variable\n",
    "print('Type of {} is {}'.format(integer_1, type(integer_1)))\n",
    "print('Type of ', float_1, 'is', type(float_1))\n",
    "print('Type of ', complex_1, 'is', type(complex_1))\n",
    "print('Type of', string, 'is', type(string))\n",
    "print('===========================================')\n",
    "\n",
    "# or \n",
    "# we can achieve the same without initialization\n",
    "print('Type of ', 10, 'is',type(10))\n",
    "print('Type of ', 15.57, 'is', type(15.57))\n",
    "print('Type of ', 10+5j, 'is',type(10+5j))\n",
    "print('Type of', 'Hello World!', 'is', type('Hello World!'))"
   ]
  },
  {
   "cell_type": "markdown",
   "metadata": {},
   "source": [
    "### Excercises"
   ]
  },
  {
   "cell_type": "markdown",
   "metadata": {},
   "source": [
    "Define type of the following variables using type() function. Output the result via print() function."
   ]
  },
  {
   "cell_type": "code",
   "execution_count": 94,
   "metadata": {},
   "outputs": [],
   "source": [
    "\n",
    "variable_1 = '3.14'\n",
    "\n",
    "variable_2 = 3.14 + 2+7j\n",
    "\n",
    "variable_3 = 'Roses are red, violets are blue'\n",
    "\n",
    "variable_4 = type(variable_1) == type(variable_3)\n",
    "\n",
    "\n"
   ]
  },
  {
   "cell_type": "markdown",
   "metadata": {},
   "source": [
    "# Types conversion"
   ]
  },
  {
   "cell_type": "markdown",
   "metadata": {},
   "source": [
    "We can convert one type to another. For example, we can convert float to int, long and complex"
   ]
  },
  {
   "cell_type": "code",
   "execution_count": 57,
   "metadata": {},
   "outputs": [
    {
     "name": "stdout",
     "output_type": "stream",
     "text": [
      "Value before conversion:  14.5\n",
      "====================================\n",
      "Value after conversion into int:  14 \t\t\tType: <class 'int'>\n",
      "Value after conversion into complex:  (14.5+0j) \tType: <class 'complex'>\n",
      "Value after conversion into complex:  14.5 \t\tType: <class 'str'>\n"
     ]
    }
   ],
   "source": [
    "#Convert float into integer\n",
    "float_to_int = int(float_1)\n",
    "print('Value before conversion: ', float_1)\n",
    "print('====================================')\n",
    "print('Value after conversion into int: ', float_to_int, '\\t\\t\\tType:', type(float_to_int))\n",
    "\n",
    "#Convert float into complex\n",
    "float_to_complex = complex(float_1)\n",
    "print('Value after conversion into complex: ', float_to_complex, '\\tType:', type(float_to_complex))\n",
    "\n",
    "#Convert float into string\n",
    "float_to_string = str(float_1)\n",
    "print('Value after conversion into complex: ', float_to_string, '\\t\\tType:', type(float_to_string))"
   ]
  },
  {
   "cell_type": "markdown",
   "metadata": {},
   "source": [
    "# Excercises"
   ]
  },
  {
   "cell_type": "markdown",
   "metadata": {},
   "source": [
    "Convert following variables to a needed type:"
   ]
  },
  {
   "cell_type": "code",
   "execution_count": null,
   "metadata": {},
   "outputs": [],
   "source": []
  },
  {
   "cell_type": "markdown",
   "metadata": {},
   "source": [
    "# Naming Conventions"
   ]
  },
  {
   "cell_type": "code",
   "execution_count": null,
   "metadata": {},
   "outputs": [],
   "source": []
  },
  {
   "cell_type": "code",
   "execution_count": null,
   "metadata": {},
   "outputs": [],
   "source": []
  }
 ],
 "metadata": {
  "kernelspec": {
   "display_name": "Python 3",
   "language": "python",
   "name": "python3"
  },
  "language_info": {
   "codemirror_mode": {
    "name": "ipython",
    "version": 3
   },
   "file_extension": ".py",
   "mimetype": "text/x-python",
   "name": "python",
   "nbconvert_exporter": "python",
   "pygments_lexer": "ipython3",
   "version": "3.7.3"
  }
 },
 "nbformat": 4,
 "nbformat_minor": 2
}
